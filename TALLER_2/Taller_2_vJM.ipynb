{
  "cells": [
    {
      "cell_type": "markdown",
      "metadata": {
        "id": "SU_lch1DySrJ"
      },
      "source": [
        "<img src=\"https://raw.githubusercontent.com/hectormelo/Machine-Learning-Techniques/main/Banner.png\" ><br>\n",
        "# Machine Learning Techniques - MISIS4219\n",
        "\n",
        "Primer semestre - 2024\n"
      ]
    },
    {
      "cell_type": "markdown",
      "metadata": {
        "id": "5UbZ1aWajfMi"
      },
      "source": [
        "\n",
        "# **Taller 2**\n",
        "\n",
        "GeoAlpes, una empresa líder en análisis geoespacial, está buscando mejorar sus técnicas de clasificación automática de imágenes satelitales. El objetivo es poder categorizar distintas características geográficas (como bosques, zonas industriales, zonas de cultivos permanentes, zonas residenciales y rios) con alta precisión y rapidez. Para lograrlo, están interesados en explorar las capacidades de los métodos ensemble.\n",
        "\n",
        "1.  Exploración y Preparación de Datos\n",
        "\n",
        "    -   Discuta las particularidades de las imágenes satelitales y sugiera técnicas extra de preprocesamiento de ser necesario.\n",
        "\n",
        "2.  Implementación de Gradient Boosting\n",
        "\n",
        "    -   Utilice Gradient Boosting como modelo base. Discuta las ventajas y desafíos de este método, y cómo afecta la precisión y robustez del clasificador. Además, compare el desempeño de Gradient Boosting con el modelo Random Forest presentado en la práctica, ¿logra observar mejoras significativas?\n",
        "\n",
        "3. Implementación de un nuevo metodo Ensemble\n",
        "    - Elija y presente un método ensemble de su preferencia.Introduzca y discuta el concepto del método elegido y cómo podría ser benéfico para la clasificación de imágenes satelitales.\n",
        "    - Compare el desempeño de su método elegido con Gradient Boosting y el modelo Random Forest. Discuta las ventajas y desventajas de cada uno.\n",
        "\n",
        "4.  Optimización y Ajuste\n",
        "\n",
        "    -   Realice una búsqueda de los mejores hiperparámetros para mejorar el desempeño de cada uno de los modelos implementados (Grid Search).\n",
        "\n",
        "Datos: [Enlace al sub conjunto del dataset de imágenes satelitales EuroSAT](https://github.com/hectormelo/Machine-Learning-Techniques/raw/main/Lab_2/EuroSAT3.zip)\n"
      ]
    },
    {
      "cell_type": "markdown",
      "source": [
        "# **DESARROLLO TALLER 2:**\n",
        "\n",
        "* William Ravelo - 201532093\n",
        "* Jose Moreno    - 201011998\n"
      ],
      "metadata": {
        "id": "j1mByJGEgHEA"
      }
    },
    {
      "cell_type": "markdown",
      "source": [
        "# Paso 0: Importación de librerias relevantes:"
      ],
      "metadata": {
        "id": "Ajt4RZY9haTz"
      }
    },
    {
      "cell_type": "code",
      "source": [
        "import os\n",
        "import time\n",
        "\n",
        "import numpy as np\n",
        "\n",
        "import matplotlib.pyplot as plt\n",
        "\n",
        "import cv2\n",
        "import requests\n",
        "\n",
        "from sklearn.metrics import accuracy_score # Cálculo de la precisión\n",
        "from sklearn.decomposition import PCA # Análisis de componentes principales\n",
        "from sklearn.metrics import confusion_matrix, ConfusionMatrixDisplay # Matriz de confusión\n",
        "from sklearn.model_selection import train_test_split # División de datos en entrenamiento y prueba\n",
        "from sklearn.model_selection import GridSearchCV # Búsqueda de hiperparámetros\n",
        "\n",
        "from sklearn.preprocessing import StandardScaler # Estandarización de datos\n",
        "\n",
        "from sklearn.metrics import classification_report, accuracy_score # Reporte de clasificación y precisión\n",
        "from sklearn.svm import SVC # Máquina de soporte vectorial\n",
        "from sklearn.ensemble import RandomForestClassifier #Librería para manejo del algoritmo Random Forest\n",
        "\n",
        "from PIL import Image #Librería para brir, manipular y guardar muchos formatos diferentes de archivos de imágenes.\n",
        "\n",
        "from skimage import io\n",
        "from zipfile import ZipFile\n",
        "from io import BytesIO\n"
      ],
      "metadata": {
        "id": "OrbH-WvDgFaz"
      },
      "execution_count": 1,
      "outputs": []
    },
    {
      "cell_type": "markdown",
      "source": [],
      "metadata": {
        "id": "QR_oxFCxgEEF"
      }
    },
    {
      "cell_type": "markdown",
      "source": [
        "# Paso 1: Preparación + exploración + preprocesamiento de los datos:"
      ],
      "metadata": {
        "id": "2inTsa-Ahkym"
      }
    },
    {
      "cell_type": "code",
      "source": [],
      "metadata": {
        "id": "G96HHY23hqBg"
      },
      "execution_count": null,
      "outputs": []
    }
  ],
  "metadata": {
    "colab": {
      "provenance": []
    },
    "kernelspec": {
      "display_name": "Python 3",
      "name": "python3"
    },
    "language_info": {
      "name": "python"
    }
  },
  "nbformat": 4,
  "nbformat_minor": 0
}